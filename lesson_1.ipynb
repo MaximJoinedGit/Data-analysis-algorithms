{
 "cells": [
  {
   "cell_type": "markdown",
   "metadata": {},
   "source": [
    "### <center>Домашнее задание к уроку 1.</center>"
   ]
  },
  {
   "cell_type": "markdown",
   "metadata": {},
   "source": [
    "1. Подберите скорость обучения (alpha) и количество итераций: "
   ]
  },
  {
   "cell_type": "code",
   "execution_count": 1,
   "metadata": {},
   "outputs": [],
   "source": [
    "import numpy as np\n",
    "import matplotlib.pyplot as plt"
   ]
  },
  {
   "cell_type": "code",
   "execution_count": 2,
   "metadata": {},
   "outputs": [],
   "source": [
    "X = np.array([[1, 1, 1, 1, 1, 1, 1, 1, 1, 1],   # для умножения на intercept\n",
    "              [1, 1, 2, 1, 3, 0, 5, 10, 1, 2]]) # стаж"
   ]
  },
  {
   "cell_type": "code",
   "execution_count": 3,
   "metadata": {},
   "outputs": [],
   "source": [
    "# средний балл ЕГЭ (целевая переменная)\n",
    "y = [45, 55, 50, 59, 65, 35, 75, 80, 50, 60]"
   ]
  },
  {
   "cell_type": "code",
   "execution_count": 4,
   "metadata": {},
   "outputs": [],
   "source": [
    "def calc_mse(y, y_pred):\n",
    "    err = np.mean((y - y_pred)**2)\n",
    "    return err\n",
    "\n",
    "def calc_mae(y, y_pred):\n",
    "    err = np.mean(np.abs(y - y_pred))\n",
    "    return err"
   ]
  },
  {
   "cell_type": "code",
   "execution_count": 5,
   "metadata": {},
   "outputs": [
    {
     "name": "stdout",
     "output_type": "stream",
     "text": [
      "0 [3.204 7.3  ] 3173.15\n",
      "100 [41.95214292  4.88570667] 61.568780958579865\n",
      "200 [46.58653419  4.02993086] 46.171203616546116\n",
      "300 [47.15320146  3.92529142] 45.94099410777859\n",
      "400 [47.22249035  3.9124967 ] 45.937552240480294\n",
      "500 [47.2309626   3.91093223] 45.93750078104854\n",
      "600 [47.23199854  3.91074093] 45.93750001167747\n"
     ]
    }
   ],
   "source": [
    "n = X.shape[1]\n",
    "alpha = 2e-2\n",
    "w = np.array([1, 0.5])\n",
    "\n",
    "for i in range(700):\n",
    "    y_pred = np.dot(w, X)\n",
    "    err = calc_mse(y, y_pred)\n",
    "    for j in range(w.shape[0]):\n",
    "        w[j] -= alpha * (1/n * 2 * np.sum(X[j] * (y_pred - y)))\n",
    "    if i % 100 == 0:\n",
    "        print(i, w, err)"
   ]
  },
  {
   "cell_type": "markdown",
   "metadata": {},
   "source": [
    "2. В этом коде мы избавляемся от итераций по весам, но тут есть ошибка, исправьте ее:"
   ]
  },
  {
   "cell_type": "code",
   "execution_count": 6,
   "metadata": {},
   "outputs": [
    {
     "name": "stdout",
     "output_type": "stream",
     "text": [
      "0 [3.204 7.3  ] 3173.15\n",
      "100 [41.95214292  4.88570667] 61.568780958579865\n",
      "200 [46.58653419  4.02993086] 46.171203616546116\n",
      "300 [47.15320146  3.92529142] 45.94099410777859\n",
      "400 [47.22249035  3.9124967 ] 45.937552240480294\n",
      "500 [47.2309626   3.91093223] 45.93750078104854\n",
      "600 [47.23199854  3.91074093] 45.93750001167747\n",
      "700 [47.23212521  3.91071754] 45.937500000174595\n",
      "800 [47.2321407   3.91071468] 45.93750000000263\n",
      "900 [47.23214259  3.91071433] 45.93750000000004\n"
     ]
    }
   ],
   "source": [
    "w = np.array([1, 0.5])\n",
    "\n",
    "for i in range(1000):\n",
    "    y_pred = np.dot(w, X)\n",
    "    err = calc_mse(y, y_pred)\n",
    "    for j in range(w.shape[0]):\n",
    "        w[j] -= alpha * (1/n * 2 * np.sum(X[j] * (y_pred - y)))\n",
    "    if i % 100 == 0:\n",
    "        print(i, w, err)"
   ]
  },
  {
   "cell_type": "markdown",
   "metadata": {},
   "source": [
    "3. Вместо того, чтобы задавать количество итераций, задайте условие остановки алгоритма - когда ошибка за итерацию начинает изменяться ниже определенного порога"
   ]
  },
  {
   "cell_type": "code",
   "execution_count": 7,
   "metadata": {},
   "outputs": [
    {
     "name": "stdout",
     "output_type": "stream",
     "text": [
      "531 [47.2315012   3.91083277] 45.93750023085143\n"
     ]
    }
   ],
   "source": [
    "w = np.array([1, 0.5])\n",
    "err_prev = 0\n",
    "err = np.inf\n",
    "count_iter = 1\n",
    "max_iter = 1e4\n",
    "epsilon = 1e-8\n",
    "\n",
    "while np.abs(err - err_prev) > epsilon and count_iter < max_iter:\n",
    "    y_pred = np.dot(w, X)\n",
    "    \n",
    "    for j in range(w.shape[0]):\n",
    "        w[j] -= alpha * (1/n * 2 * np.sum(X[j] * (y_pred - y)))\n",
    "    \n",
    "    err_prev = err\n",
    "    err = calc_mse(y, y_pred)\n",
    "    count_iter += 1\n",
    "    \n",
    "print(count_iter, w, err)"
   ]
  }
 ],
 "metadata": {
  "kernelspec": {
   "display_name": "Python 3",
   "language": "python",
   "name": "python3"
  },
  "language_info": {
   "codemirror_mode": {
    "name": "ipython",
    "version": 3
   },
   "file_extension": ".py",
   "mimetype": "text/x-python",
   "name": "python",
   "nbconvert_exporter": "python",
   "pygments_lexer": "ipython3",
   "version": "3.8.5"
  }
 },
 "nbformat": 4,
 "nbformat_minor": 4
}
